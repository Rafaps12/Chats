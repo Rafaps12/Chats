{
 "cells": [
  {
   "cell_type": "code",
   "execution_count": 1,
   "metadata": {},
   "outputs": [
    {
     "name": "stderr",
     "output_type": "stream",
     "text": [
      "Matplotlib is building the font cache; this may take a moment.\n"
     ]
    },
    {
     "name": "stdout",
     "output_type": "stream",
     "text": [
      "Calculando el resultado sin usar todos los cores...\n",
      "Calculando el resultado usando todos los cores......\n",
      "\n",
      "Tiempo_a_MANO : 1222.238 segundos o, 1222237.616 milisegundos\n",
      "Tiempo_a_toda_MAQUINA : 797.005 segundos o, 797005.239 milisegundos\n",
      "Diferencia entre tiempo a MANO y tiempo a toda MAQUINA : 425.232 segundos o, 425232.377 milisegundos\n",
      "Relación entre tiempo a MANO y tiempo a toda MAQUINA: 1.534 %\n",
      "Relación entre la computación tradicional ( a mano ) VS a la programación a toda máquina: 19.2\n"
     ]
    },
    {
     "data": {
      "image/png": "[encoded data removed]",
      "text/plain": [
       "<Figure size 432x288 with 1 Axes>"
      ]
     },
     "metadata": {
      "needs_background": "light"
     },
     "output_type": "display_data"
    }
   ],
   "source": [
    "import concurrent.futures\n",
    "import time\n",
    "import multiprocessing as mp\n",
    "import numpy as np\n",
    "import matplotlib.pyplot as plt\n",
    "\n",
    "def par_sum(inf, sup, pool=None):\n",
    "    if not pool:\n",
    "        with concurrent.futures.ThreadPoolExecutor() as capataz:\n",
    "            trabajo_a_realizar = par_sum(inf, sup, pool=capataz)\n",
    "            return sum(trabajo_completado.result() for trabajo_completado in concurrent.futures.as_completed(trabajo_a_realizar))\n",
    "    else:\n",
    "        if sup - inf <= 9_000_000:\n",
    "            return [pool.submit(sum, range(inf, sup))]\n",
    "        else:\n",
    "            mitad = (sup + inf) // 2\n",
    "            parte_izq = par_sum(inf, mitad, pool=pool)\n",
    "            parte_der = par_sum(mitad, sup, pool=pool)\n",
    "            return parte_izq + parte_der\n",
    "\n",
    "'''def par_sum(inf, sup, pool=None):\n",
    "    if not pool:\n",
    "        with concurrent.futures.ThreadPoolExecutor() as capataz:\n",
    "            trabajo_a_realizar = par_sum(inf, sup, pool=capataz)\n",
    "            return sum(trabajo_completado.result() for trabajo_completado in concurrent.futures.as_completed(trabajo_a_realizar))\n",
    "    elif sup - inf <= 100_00_000:\n",
    "        return [pool.submit(sum, range(inf, sup))]\n",
    "    else:\n",
    "        mitad = (sup + inf) // 2\n",
    "        parte_izq = par_sum(inf, mitad, pool=pool)\n",
    "        parte_der = par_sum(mitad, sup, pool=pool)\n",
    "        return parte_izq + parte_der'''\n",
    "\n",
    "def mano_sum(inf, sup):\n",
    "    return sum(range(inf, sup))\n",
    "\n",
    "if __name__ == '__main__':\n",
    "    limite_superior = 90_00_000_000\n",
    "    numero_de_ejecuciones = 1\n",
    "\n",
    "\n",
    "    print('Calculando el resultado sin usar todos los cores...')\n",
    "    tiempo_a_mano = 0\n",
    "    for i in range(numero_de_ejecuciones):\n",
    "        inicio = time.perf_counter()\n",
    "        mano_sum(1, limite_superior)\n",
    "        tiempo_a_mano += time.perf_counter() - inicio\n",
    "    tiempo_a_mano /= numero_de_ejecuciones\n",
    "\n",
    "    print('Calculando el resultado usando todos los cores......')\n",
    "    tiempo_a_toda_maquina = 0\n",
    "    for i in range(numero_de_ejecuciones):\n",
    "        inicio = time.perf_counter()\n",
    "        par_sum(1, limite_superior)\n",
    "        tiempo_a_toda_maquina += time.perf_counter() - inicio\n",
    "    tiempo_a_toda_maquina /= numero_de_ejecuciones\n",
    "\n",
    "    print('\\nTiempo_a_MANO :',round(tiempo_a_mano,3), 'segundos o,',round(tiempo_a_mano*1000,3),'milisegundos')\n",
    "    print('Tiempo_a_toda_MAQUINA :', round(tiempo_a_toda_maquina,3), 'segundos o,',round(tiempo_a_toda_maquina*1000,3),'milisegundos')\n",
    "    print('Diferencia entre tiempo a MANO y tiempo a toda MAQUINA :',round(tiempo_a_mano - tiempo_a_toda_maquina,3), 'segundos o,',round((tiempo_a_mano - tiempo_a_toda_maquina)*1000,3),'milisegundos')\n",
    "    print('Relación entre tiempo a MANO y tiempo a toda MAQUINA:',round(tiempo_a_mano / tiempo_a_toda_maquina,3),'%')\n",
    "    print('Relación entre la computación tradicional ( a mano ) VS a la programación a toda máquina:', round((tiempo_a_mano / tiempo_a_toda_maquina) / mp.cpu_count(),3)*100)\n",
    "\n",
    "    height = [tiempo_a_mano, tiempo_a_toda_maquina]\n",
    "    bars = ('A mano', 'A toda maquina')\n",
    "    x_pos = np.arange(len(bars))\n",
    "    plt.bar(x_pos, height)\n",
    "    plt.xticks(x_pos, bars)\n",
    "    plt.show()"
   ]
  },
  {
   "cell_type": "code",
   "execution_count": null,
   "metadata": {},
   "outputs": [],
   "source": []
  }
 ],
 "metadata": {
  "kernelspec": {
   "display_name": "Python 3",
   "language": "python",
   "name": "python3"
  },
  "language_info": {
   "codemirror_mode": {
    "name": "ipython",
    "version": 3
   },
   "file_extension": ".py",
   "mimetype": "text/x-python",
   "name": "python",
   "nbconvert_exporter": "python",
   "pygments_lexer": "ipython3",
   "version": "3.8.5"
  }
 },
 "nbformat": 4,
 "nbformat_minor": 4
}
